{
 "cells": [
  {
   "cell_type": "raw",
   "metadata": {},
   "source": [
    "The challenge: Alphabet Rangoli\n",
    "\n",
    "#size 3\n",
    "\n",
    "----c----\n",
    "--c-b-c--\n",
    "c-b-a-b-c\n",
    "--c-b-c--\n",
    "----c----\n",
    "\n",
    "#size 5\n",
    "\n",
    "--------e--------\n",
    "------e-d-e------\n",
    "----e-d-c-d-e----\n",
    "--e-d-c-b-c-d-e--\n",
    "e-d-c-b-a-b-c-d-e\n",
    "--e-d-c-b-c-d-e--\n",
    "----e-d-c-d-e----\n",
    "------e-d-e------\n",
    "--------e--------"
   ]
  },
  {
   "cell_type": "code",
   "execution_count": 22,
   "metadata": {},
   "outputs": [
    {
     "name": "stdout",
     "output_type": "stream",
     "text": [
      "['e', 'd', 'c', 'b', 'a', 'b', 'c', 'd', 'e']\n",
      "e-d-c-b-a-b-c-d-e\n",
      "['e', 'd', 'c', 'b', 'a', 'b', 'c', 'd', 'e']\n",
      "e-d-c-b-a-b-c-d-e\n"
     ]
    }
   ],
   "source": [
    "\"\"\"\n",
    "What if we generate the middle row first and set the length to the number of cols\n",
    "\"\"\"\n",
    "N = 5\n",
    "alph = 'abcdefghijklmnopqrstuvwxyz'\n",
    "rows = N\n",
    "\n",
    "\n",
    "def get_cols(N):\n",
    "    # writing the middle row\n",
    "    row = []\n",
    "    for i in reversed(range(N)):\n",
    "        row.append(alph[i])\n",
    "    for i in range(1,N):\n",
    "        row.append(alph[i])\n",
    "    print(row)\n",
    "    middle_row = \"-\".join(row)\n",
    "    print(middle_row)\n",
    "    return (middle_row, len(middle_row))\n",
    "\n",
    "cols = get_cols(N)[1]\n",
    "\n",
    "\n",
    "#different starting point each time\n",
    "for start in range(N)\n",
    "    \n",
    "    \n",
    "rangoli(N)"
   ]
  }
 ],
 "metadata": {
  "kernelspec": {
   "display_name": "Python 3",
   "language": "python",
   "name": "python3"
  },
  "language_info": {
   "codemirror_mode": {
    "name": "ipython",
    "version": 3
   },
   "file_extension": ".py",
   "mimetype": "text/x-python",
   "name": "python",
   "nbconvert_exporter": "python",
   "pygments_lexer": "ipython3",
   "version": "3.7.3"
  }
 },
 "nbformat": 4,
 "nbformat_minor": 2
}
