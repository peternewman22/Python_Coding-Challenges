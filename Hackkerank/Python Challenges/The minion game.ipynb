{
 "cells": [
  {
   "cell_type": "code",
   "execution_count": 41,
   "metadata": {},
   "outputs": [
    {
     "ename": "IndentationError",
     "evalue": "expected an indented block (<ipython-input-41-e0fa07b86b35>, line 44)",
     "output_type": "error",
     "traceback": [
      "\u001b[1;36m  File \u001b[1;32m\"<ipython-input-41-e0fa07b86b35>\"\u001b[1;36m, line \u001b[1;32m44\u001b[0m\n\u001b[1;33m    print(\"Kevin: \", Kevin)\u001b[0m\n\u001b[1;37m                           ^\u001b[0m\n\u001b[1;31mIndentationError\u001b[0m\u001b[1;31m:\u001b[0m expected an indented block\n"
     ]
    }
   ],
   "source": [
    "S = \"BANANA\"\n",
    "\n",
    "# making all substrings then searching\n",
    "#checking that searching a substring works\n",
    "# if \"ANA\" in \"BANANA\":\n",
    "#     print(\"Yep\")\n",
    "\n",
    "substrings = []\n",
    "strLen = len(S)\n",
    "Kevin = 0\n",
    "Stuart = 0\n",
    "vowels = ['a', 'e', 'i', 'o', 'u']\n",
    "\n",
    "#groups of 5\n",
    "# substrings.append(S[:strLen])\n",
    "# #groups of 4\n",
    "# for i in range(strLen//4+2):\n",
    "#     candidate = S[i:i+4]\n",
    "#     substrings.append(candidate)\n",
    "# #groups of 3\n",
    "# for i in range(strLen//3 + 2):\n",
    "#     candidate = S[i:i+3]\n",
    "#     substrings.append(candidate)\n",
    "# print(substrings)\n",
    "\n",
    "\n",
    "for i in reversed(list(range(1,strLen+1))):\n",
    "    #print(i)\n",
    "    for x in range(strLen//i+1):\n",
    "#         print(x)\n",
    "        candidate = S[x:x+i]\n",
    "#         print(candidate)\n",
    "        substrings.append(candidate)\n",
    "    \n",
    "#print(substrings)\n",
    "for eachWord in substrings:\n",
    "    #print(eachWord)\n",
    "    if eachWord and eachWord[0] in vowels:\n",
    "        print(eachWord[0])\n",
    "#         Kevin += 1\n",
    "    else:\n",
    "#           Stuart += 1\n",
    "\n",
    "print(\"Kevin: \", Kevin)\n",
    "print(\"stuart: \", Stuart)\n",
    "          "
   ]
  },
  {
   "cell_type": "code",
   "execution_count": 35,
   "metadata": {},
   "outputs": [
    {
     "data": {
      "text/plain": [
       "'b'"
      ]
     },
     "execution_count": 35,
     "metadata": {},
     "output_type": "execute_result"
    }
   ],
   "source": [
    "\"banana\"[0]"
   ]
  },
  {
   "cell_type": "code",
   "execution_count": null,
   "metadata": {},
   "outputs": [],
   "source": []
  }
 ],
 "metadata": {
  "kernelspec": {
   "display_name": "Python 3",
   "language": "python",
   "name": "python3"
  },
  "language_info": {
   "codemirror_mode": {
    "name": "ipython",
    "version": 3
   },
   "file_extension": ".py",
   "mimetype": "text/x-python",
   "name": "python",
   "nbconvert_exporter": "python",
   "pygments_lexer": "ipython3",
   "version": "3.7.3"
  }
 },
 "nbformat": 4,
 "nbformat_minor": 2
}
